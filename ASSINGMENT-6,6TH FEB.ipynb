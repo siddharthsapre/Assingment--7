{
 "cells": [
  {
   "cell_type": "markdown",
   "id": "e6cb8c86-4329-43e7-a8da-680ec11ae27e",
   "metadata": {},
   "source": [
    "Q1. Create a function which will take a list as an argument and return the product of all the numbers after creating a flat list. Use the below-given list as an argument for your function. list1 = [1,2,3,4, [44,55,66, True], False, (34,56,78,89,34), {1,2,3,3,2,1}, {1:34, \"key2\": [55, 67, 78, 89], 4: (45, 22, 61, 34)}, [56, 'data science'], 'Machine Learning'] Note: you must extract numeric keys and values of the dictionary also.\n"
   ]
  },
  {
   "cell_type": "code",
   "execution_count": null,
   "id": "c224ef2a-966a-47f4-b7fb-506c3a3aac49",
   "metadata": {},
   "outputs": [],
   "source": [
    "list1 = [1,2,3,4, [44,55,66, True], False, (34,56,78,89,34), {1,2,3,3,2,1}, {1:34, \"key2\": \n",
    "[55, 67, 78, 89], 4: (45, 22, 61, 34)}, [56, 'data science']]\n",
    "def test25(n):\n",
    "    k=[]\n",
    "    m=[]\n",
    "    for i in n:\n",
    "        if type(i)==int:\n",
    "            k.append(i**2)\n",
    "        if type(i)==list:\n",
    "            for p in i:\n",
    "                if type(p)==int:\n",
    "                    k.append(p**2)\n",
    "        if type(i)==tuple:\n",
    "            for d in i:\n",
    "                if type(d)==int:\n",
    "                    k.append(d**2)\n",
    "        if type(i)==set:\n",
    "            for q in i:\n",
    "                if type(q)==int:\n",
    "                    k.append(q**2)\n",
    "        if type(i)==dict:\n",
    "            for u in i.keys():\n",
    "                if type(u)==int:\n",
    "                    k.append(u**2)\n",
    "            for g in i.values():\n",
    "                if type(g)==int:\n",
    "                    k.append(g**2)\n",
    "                if type(g)==list:\n",
    "                    for o in g:\n",
    "                        k.append(o**2)\n",
    "                if type(g)==tuple:\n",
    "                    for d in g:\n",
    "                        k.append(d**2)\n",
    "    return k\n",
    "      \n",
    "  "
   ]
  },
  {
   "cell_type": "markdown",
   "id": "c80f72ac-b159-4e24-8275-7d354f39b128",
   "metadata": {},
   "source": [
    "Q2. Write a python program for encrypting a message sent to you by your friend. The logic of encryption\n",
    "should be such that, for a the output should be z. For b, the output should be y. For c, the output should\n",
    "be x respectively. Also, the whitespace should be replaced with a dollar sign. Keep the punctuation\n",
    "marks unchanged.\n",
    "Input Sentence: I want to become a Data Scientist.\n",
    "Encrypt the above input sentence using the program you just created.\n",
    "Note: Convert the given input sentence into lowercase before encrypting. The final output should be\n",
    "lowercase."
   ]
  },
  {
   "cell_type": "code",
   "execution_count": null,
   "id": "d4eaabe7-88e8-412b-a0e8-6fc06cc140c1",
   "metadata": {},
   "outputs": [],
   "source": [
    "message=input(\"Enter the message you want to encrypt\")\n",
    "l=[]\n",
    "for i in message.lower():\n",
    "    if i==\"a\":\n",
    "         l.append(\"z\")\n",
    "    if i==\"z\":\n",
    "         l.append(\"a\")\n",
    "    if i==\"b\":\n",
    "         l.append(\"y\")\n",
    "    if i==\"y\":\n",
    "         l.append(\"b\")\n",
    "    if i==\"c\":\n",
    "         l.append(\"x\")\n",
    "    if i==\"x\":\n",
    "         l.append(\"c\")\n",
    "    if i==\"d\":\n",
    "         l.append(\"w\")\n",
    "    if i==\"w\":\n",
    "         l.append(\"d\")\n",
    "    if i==\"e\":\n",
    "         l.append(\"v\")\n",
    "    if i==\"v\":\n",
    "         l.append(\"e\")\n",
    "    if i==\"f\":\n",
    "         l.append(\"u\")\n",
    "    if i==\"u\":\n",
    "         l.append(\"f\")\n",
    "    if i==\"g\":\n",
    "         l.append(\"t\")\n",
    "    if i==\"t\":\n",
    "         l.append(\"g\")\n",
    "    if i==\"h\":\n",
    "         l.append(\"s\")\n",
    "    if i==\"s\":\n",
    "         l.append(\"h\")\n",
    "    if i==\"i\":\n",
    "         l.append(\"r\")\n",
    "    if i==\"r\":\n",
    "         l.append(\"i\")\n",
    "    if i==\"j\":\n",
    "         l.append(\"q\")\n",
    "    if i==\"q\":\n",
    "         l.append(\"j\")\n",
    "    if i==\"k\":\n",
    "         l.append(\"p\")\n",
    "    if i==\"p\":\n",
    "         l.append(\"k\")\n",
    "    if i==\"l\":\n",
    "         l.append(\"o\")\n",
    "    if i==\"o\":\n",
    "         l.append(\"l\")\n",
    "    if i==\"m\":\n",
    "         l.append(\"n\")\n",
    "    if i==\"n\":\n",
    "         l.append(\"m\")\n",
    "    if i==\" \":\n",
    "         l.append(\"$\")\n",
    "print(l)\n",
    "                                            \n",
    "                                                    \n",
    "                                        \n",
    "                        \n",
    "            "
   ]
  },
  {
   "cell_type": "code",
   "execution_count": null,
   "id": "63de3fb6-4440-4975-a2c6-ed1f8639cbe6",
   "metadata": {},
   "outputs": [],
   "source": []
  },
  {
   "cell_type": "code",
   "execution_count": null,
   "id": "65854684-1a0a-4508-b9e1-db40d5c9be47",
   "metadata": {},
   "outputs": [],
   "source": []
  },
  {
   "cell_type": "code",
   "execution_count": null,
   "id": "de9f638b-9d3c-45bf-a55d-acee217c4261",
   "metadata": {},
   "outputs": [],
   "source": []
  },
  {
   "cell_type": "code",
   "execution_count": null,
   "id": "d2629526-beb2-47d9-9295-12b4a9a6d035",
   "metadata": {},
   "outputs": [],
   "source": []
  },
  {
   "cell_type": "code",
   "execution_count": null,
   "id": "e4364803-67d0-46d9-b2a7-33ee19f3471b",
   "metadata": {},
   "outputs": [],
   "source": []
  },
  {
   "cell_type": "code",
   "execution_count": null,
   "id": "c139de25-2d2c-4bb3-947c-c04a75231919",
   "metadata": {},
   "outputs": [],
   "source": []
  },
  {
   "cell_type": "code",
   "execution_count": null,
   "id": "92f12efb-08cf-4d60-b71a-4eba45362a67",
   "metadata": {},
   "outputs": [],
   "source": []
  },
  {
   "cell_type": "code",
   "execution_count": null,
   "id": "f4ce9eb1-4665-44bc-94a1-6fe894cc98e4",
   "metadata": {},
   "outputs": [],
   "source": []
  },
  {
   "cell_type": "code",
   "execution_count": null,
   "id": "eacec475-6934-4016-b190-47386a124896",
   "metadata": {},
   "outputs": [],
   "source": []
  }
 ],
 "metadata": {
  "kernelspec": {
   "display_name": "Python 3 (ipykernel)",
   "language": "python",
   "name": "python3"
  },
  "language_info": {
   "codemirror_mode": {
    "name": "ipython",
    "version": 3
   },
   "file_extension": ".py",
   "mimetype": "text/x-python",
   "name": "python",
   "nbconvert_exporter": "python",
   "pygments_lexer": "ipython3",
   "version": "3.10.8"
  }
 },
 "nbformat": 4,
 "nbformat_minor": 5
}
